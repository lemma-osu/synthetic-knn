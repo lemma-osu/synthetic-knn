{
 "cells": [
  {
   "cell_type": "markdown",
   "metadata": {},
   "source": [
    "#### Create synthetic plots from Canonical Correspondence Analysis (CCA) results"
   ]
  },
  {
   "cell_type": "markdown",
   "metadata": {},
   "source": [
    "This notebook goes through the steps needed to create synthetic plots from CCA results using sample data from the `sknnr` package.  We demonstrate the use of different synthetic plot network types including:\n",
    "- `ReferenceNetwork`: a point network where synthetic points are at the same locations as the original points\n",
    "- `FuzzedNetwork`: a point network where synthetic points are randomly fuzzed a certain distance from the original points in each CCA dimension\n",
    "- `QuantileMesh`: a mesh network where synthetic points are placed at the quantiles of the CCA scores in each dimension\n",
    "- `EqualIntervalMesh`: a mesh network where synthetic points are placed at equal intervals of the CCA scores in each dimension"
   ]
  },
  {
   "cell_type": "code",
   "execution_count": null,
   "metadata": {},
   "outputs": [],
   "source": [
    "%load_ext autoreload\n",
    "%autoreload 2\n",
    "\n",
    "import matplotlib.pyplot as plt\n",
    "import numpy as np\n",
    "import pandas as pd\n",
    "\n",
    "from sknnr.datasets import load_moscow_stjoes\n",
    "from sknnr.transformers import CCATransformer\n",
    "\n",
    "from synthetic_knn.synthetic_plots import SyntheticPlots\n",
    "from synthetic_knn.point_networks import (\n",
    "    ReferenceNetwork,\n",
    "    FuzzedNetwork,\n",
    "    QuantileMesh,\n",
    "    EqualIntervalMesh\n",
    ")"
   ]
  },
  {
   "cell_type": "markdown",
   "metadata": {},
   "source": [
    "Load in the sample Moscow Mountain / St. Joes data from `sknnr` as separate `X` and `y` dataframes."
   ]
  },
  {
   "cell_type": "code",
   "execution_count": null,
   "metadata": {},
   "outputs": [],
   "source": [
    "X, y = load_moscow_stjoes(return_X_y=True, as_frame=True)"
   ]
  },
  {
   "cell_type": "markdown",
   "metadata": {},
   "source": [
    "Use the `CCATransformer` to transform these data into a 5-dimensional space and created the transformed X scores to serve as the reference coordinates in the CCA space."
   ]
  },
  {
   "cell_type": "code",
   "execution_count": null,
   "metadata": {},
   "outputs": [],
   "source": [
    "estimator = CCATransformer(n_components=5).fit(X, y)\n",
    "X_transformed = estimator.transform(X)"
   ]
  },
  {
   "cell_type": "markdown",
   "metadata": {},
   "source": [
    "Create a network of synthetic plots using the reference coordinates to set the CCA space.  Initially, create a `ReferenceNetwork` where the synthetic points are at the same locations as the original points.  The `network` argument must be an instance of a class that inherits from the `PointNetwork` superclass.  The `k` argument specifies how many (reference) neighbors to return for each synthetic plot."
   ]
  },
  {
   "cell_type": "code",
   "execution_count": null,
   "metadata": {},
   "outputs": [],
   "source": [
    "reference_network_plots = SyntheticPlots(\n",
    "    reference_coordinates=X_transformed,\n",
    "    network=ReferenceNetwork(),\n",
    "    k=10\n",
    ")"
   ]
  },
  {
   "cell_type": "markdown",
   "metadata": {},
   "source": [
    "Get the _k_ neighbors and distances associated with each synthetic plot"
   ]
  },
  {
   "cell_type": "code",
   "execution_count": null,
   "metadata": {},
   "outputs": [],
   "source": [
    "d, n_idx = reference_network_plots.distances(), reference_network_plots.neighbors()\n",
    "print(d[:5, :5])\n",
    "print(n_idx[:5, :5])"
   ]
  },
  {
   "cell_type": "markdown",
   "metadata": {},
   "source": [
    "We can also crosswalk this back to the IDs associated with the neighbors"
   ]
  },
  {
   "cell_type": "code",
   "execution_count": null,
   "metadata": {},
   "outputs": [],
   "source": [
    "n = reference_network_plots.neighbors(id_arr=np.array(y.index))\n",
    "print(n[:5, :5])"
   ]
  },
  {
   "cell_type": "markdown",
   "metadata": {},
   "source": [
    "Notice how the first neighbor distances are zero for the first 5 records.  For the `ReferenceNetwork`, the first neighbor is always the original point itself.  Verify that the first neighbor distance is always zero and that the first neighbor ID is the same as the original point ID."
   ]
  },
  {
   "cell_type": "code",
   "execution_count": null,
   "metadata": {},
   "outputs": [],
   "source": [
    "print(\"All zero distances:\", np.all(d[:, 0] == 0))\n",
    "print(\"All neighbors match:\", np.all(n[:, 0] == y.index))"
   ]
  },
  {
   "cell_type": "markdown",
   "metadata": {},
   "source": [
    "We can also retrieve synthetic plot neighbors and distances as pandas `DataFrame`s which can be written out to CSV files.  Note that the synthetic plots will receive dummy IDs, sequentially numbered from 1 to the number of synthetic plots.  The index of the datafarame will be called `SYNTHETIC_PLOT_ID`."
   ]
  },
  {
   "cell_type": "code",
   "execution_count": null,
   "metadata": {},
   "outputs": [],
   "source": [
    "distances_df = reference_network_plots.distances(as_frame=True)\n",
    "neighbors_df = reference_network_plots.neighbors(id_arr=np.array(y.index), as_frame=True)\n",
    "print(distances_df.head())\n",
    "print(neighbors_df.head())\n",
    "\n",
    "distances_df.to_csv(\"../data/networks/reference_k25_distances.csv\", float_format=\"%.6f\")\n",
    "neighbors_df.to_csv(\"../data/networks/reference_k25_neighbors.csv\")\n"
   ]
  },
  {
   "cell_type": "markdown",
   "metadata": {},
   "source": [
    "If desired, we can also capture the synthetic plot coordinates to a `DataFrame` and write out to a CSV file.  Because this network may be used in a second-stage imputation, it is useful to retain these coordinates such that they can be used to train a `sklearn.neighbors.NearestNeighbors` estimator in the second stage."
   ]
  },
  {
   "cell_type": "code",
   "execution_count": null,
   "metadata": {},
   "outputs": [],
   "source": [
    "coordinates_df = reference_network_plots.synthetic_coordinates(as_frame=True, prefix=\"CCA\")\n",
    "print(coordinates_df.head())\n",
    "coordinates_df.to_csv(\"../data/networks/reference_k25_coordinates.csv\", float_format=\"%.6f\")"
   ]
  },
  {
   "cell_type": "markdown",
   "metadata": {},
   "source": [
    "#### Using other network types"
   ]
  },
  {
   "cell_type": "markdown",
   "metadata": {},
   "source": [
    "Now, use a `FuzzedNetwork` to add some noise to the reference coordinates.  This will ensure that the fuzzed coordinate is between the minimum and maximum distances of the coupled reference point, but the fuzzed coordinate may be smaller than the minimum distance to *another* reference point."
   ]
  },
  {
   "cell_type": "code",
   "execution_count": null,
   "metadata": {},
   "outputs": [],
   "source": [
    "fuzzed_network_plots = SyntheticPlots(\n",
    "    reference_coordinates=X_transformed,\n",
    "    network=FuzzedNetwork(minimum_distance=0.1, maximum_distance=0.5),\n",
    "    k=10\n",
    ")"
   ]
  },
  {
   "cell_type": "markdown",
   "metadata": {},
   "source": [
    "Finally, create `QuantileMesh` and `EqualIntervalMesh` networks.  These networks are mesh networks where the synthetic points are placed at the midpoints of the quantiles or equal intervals of the CCA scores in each dimension.  The `n_bins` argument associated with these network's intializers specifies how many bins to use in each dimension."
   ]
  },
  {
   "cell_type": "code",
   "execution_count": null,
   "metadata": {},
   "outputs": [],
   "source": [
    "quantile_network_plots = SyntheticPlots(\n",
    "    reference_coordinates=X_transformed,\n",
    "    network=QuantileMesh(n_bins=10),\n",
    "    k=10\n",
    ")\n",
    "\n",
    "equal_interval_network_plots = SyntheticPlots(\n",
    "    reference_coordinates=X_transformed,\n",
    "    network=EqualIntervalMesh(n_bins=10),\n",
    "    k=10\n",
    ")"
   ]
  },
  {
   "cell_type": "markdown",
   "metadata": {},
   "source": [
    "With these mesh types, beware the curse of dimensionality.  If a user has a CCA ordination with many components and you request even a small number of bins per component (axis), they may end up with a very large number of synthetic plots (`n_bins` ** `n_dimensions`).  At present, the maximum number of synthetic plots is capped at 1,000,000 and an error will be raised if the user tries to exceed this."
   ]
  },
  {
   "cell_type": "code",
   "execution_count": null,
   "metadata": {},
   "outputs": [],
   "source": [
    "# Create a fake set of reference coordinates with 100 plots and 10 dimensions\n",
    "n_components = 10\n",
    "rng = np.random.default_rng(42)\n",
    "reference_coordinates = rng.normal(size=(100, n_components))\n",
    "\n",
    "# Request five bins per component\n",
    "n_bins = 5\n",
    "\n",
    "# An error is raised when creating the plots\n",
    "quantile_network_plots_error = SyntheticPlots(\n",
    "    reference_coordinates=reference_coordinates,\n",
    "    network=QuantileMesh(n_bins=n_bins),\n",
    ")"
   ]
  },
  {
   "cell_type": "markdown",
   "metadata": {},
   "source": [
    "#### Visualizing synthetic networks"
   ]
  },
  {
   "cell_type": "markdown",
   "metadata": {},
   "source": [
    "It can be difficult to conceptualize what these plot networks look like in high-dimensional space.  We can use `matplotlib` to visualize (at least) the first three axes of the different synthetic networks.  This allows the user to understand how the reference plots and different synthetic plot networks relate to one another."
   ]
  },
  {
   "cell_type": "markdown",
   "metadata": {},
   "source": [
    "Again, using the Moscow Mountain / St. Joes dataset, we'll create a CCA transformation and capture the plot scores for the first three CCA axes."
   ]
  },
  {
   "cell_type": "code",
   "execution_count": null,
   "metadata": {},
   "outputs": [],
   "source": [
    "X, y = load_moscow_stjoes(return_X_y=True, as_frame=True)\n",
    "estimator = CCATransformer(n_components=3).fit(X, y)\n",
    "X_transformed = estimator.transform(X)"
   ]
  },
  {
   "cell_type": "markdown",
   "metadata": {},
   "source": [
    "Now create the `FuzzedNetwork`, `QuantileMesh`, and `EqualIntervalMesh` networks as before, but using eight bins per axis for the mesh networks (there is no need to visualize the `ReferenceNetwork` as it is the same as the original points)."
   ]
  },
  {
   "cell_type": "code",
   "execution_count": null,
   "metadata": {},
   "outputs": [],
   "source": [
    "fuzzed_network_plots = SyntheticPlots(\n",
    "    reference_coordinates=X_transformed,\n",
    "    network=FuzzedNetwork(minimum_distance=0.1, maximum_distance=0.5),\n",
    "    k=10\n",
    ")\n",
    "\n",
    "quantile_network_plots = SyntheticPlots(\n",
    "    reference_coordinates=X_transformed,\n",
    "    network=QuantileMesh(n_bins=8),\n",
    "    k=10\n",
    ")\n",
    "\n",
    "equal_interval_network_plots = SyntheticPlots(\n",
    "    reference_coordinates=X_transformed,\n",
    "    network=EqualIntervalMesh(n_bins=8),\n",
    "    k=10\n",
    ")"
   ]
  },
  {
   "cell_type": "markdown",
   "metadata": {},
   "source": [
    "Concatentate the original plot scores and the three synthetic networks into a `pandas.DataFrame` to facilitate visualization."
   ]
  },
  {
   "cell_type": "code",
   "execution_count": null,
   "metadata": {},
   "outputs": [],
   "source": [
    "plots = pd.concat([\n",
    "    pd.DataFrame(X_transformed, columns=[\"x\", \"y\", \"z\"]).assign(group=\"reference\"),\n",
    "    pd.DataFrame(fuzzed_network_plots.synthetic_coordinates(), columns=[\"x\", \"y\", \"z\"]).assign(group=\"fuzzed\"),\n",
    "    pd.DataFrame(quantile_network_plots.synthetic_coordinates(), columns=[\"x\", \"y\", \"z\"]).assign(group=\"quantile\"),\n",
    "    pd.DataFrame(equal_interval_network_plots.synthetic_coordinates(), columns=[\"x\", \"y\", \"z\"]).assign(group=\"equal_interval\"),\n",
    "])\n",
    "\n",
    "plots.head()"
   ]
  },
  {
   "cell_type": "markdown",
   "metadata": {},
   "source": [
    "Finally, create paired 3D scatter plots of the original plots against each of the three synthetic networks."
   ]
  },
  {
   "cell_type": "code",
   "execution_count": null,
   "metadata": {},
   "outputs": [],
   "source": [
    "fig, ax = plt.subplots(ncols=3, subplot_kw={\"projection\": \"3d\"}, figsize=(16, 16))\n",
    "\n",
    "ref = plots[plots[\"group\"] == \"reference\"]\n",
    "\n",
    "for axis, group in zip(ax, [\"fuzzed\", \"equal_interval\", \"quantile\"]):\n",
    "    data = plots[plots[\"group\"] == group]\n",
    "\n",
    "    axis.scatter(ref[\"x\"], ref[\"y\"], ref[\"z\"], label=\"reference\", alpha=0.5)\n",
    "    axis.scatter(data[\"x\"], data[\"y\"], data[\"z\"], label=group, alpha=0.7)\n",
    "\n",
    "    axis.set_proj_type(\"ortho\")\n",
    "    axis.view_init(elev=30, azim=30)\n",
    "    axis.legend()"
   ]
  },
  {
   "cell_type": "code",
   "execution_count": null,
   "metadata": {},
   "outputs": [],
   "source": []
  }
 ],
 "metadata": {
  "kernelspec": {
   "display_name": "test",
   "language": "python",
   "name": "python3"
  },
  "language_info": {
   "codemirror_mode": {
    "name": "ipython",
    "version": 3
   },
   "file_extension": ".py",
   "mimetype": "text/x-python",
   "name": "python",
   "nbconvert_exporter": "python",
   "pygments_lexer": "ipython3",
   "version": "3.12.2"
  }
 },
 "nbformat": 4,
 "nbformat_minor": 2
}
